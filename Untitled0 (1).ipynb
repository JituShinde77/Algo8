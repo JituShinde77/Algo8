{
  "nbformat": 4,
  "nbformat_minor": 0,
  "metadata": {
    "colab": {
      "name": "Untitled0.ipynb",
      "provenance": [],
      "collapsed_sections": []
    },
    "kernelspec": {
      "name": "python3",
      "display_name": "Python 3"
    }
  },
  "cells": [
    {
      "cell_type": "code",
      "metadata": {
        "id": "zuGGPLC7sx7o",
        "colab_type": "code",
        "colab": {
          "base_uri": "https://localhost:8080/",
          "height": 121
        },
        "outputId": "4ea129b3-bd82-4256-9ea5-6d26a9ae9a14"
      },
      "source": [
        "from google.colab import drive\n",
        "drive.mount('/content/gdrive')"
      ],
      "execution_count": 1,
      "outputs": [
        {
          "output_type": "stream",
          "text": [
            "Go to this URL in a browser: https://accounts.google.com/o/oauth2/auth?client_id=947318989803-6bn6qk8qdgf4n4g3pfee6491hc0brc4i.apps.googleusercontent.com&redirect_uri=urn%3aietf%3awg%3aoauth%3a2.0%3aoob&response_type=code&scope=email%20https%3a%2f%2fwww.googleapis.com%2fauth%2fdocs.test%20https%3a%2f%2fwww.googleapis.com%2fauth%2fdrive%20https%3a%2f%2fwww.googleapis.com%2fauth%2fdrive.photos.readonly%20https%3a%2f%2fwww.googleapis.com%2fauth%2fpeopleapi.readonly\n",
            "\n",
            "Enter your authorization code:\n",
            "··········\n",
            "Mounted at /content/gdrive\n"
          ],
          "name": "stdout"
        }
      ]
    },
    {
      "cell_type": "code",
      "metadata": {
        "id": "HQ5PZftps7iR",
        "colab_type": "code",
        "colab": {
          "base_uri": "https://localhost:8080/",
          "height": 34
        },
        "outputId": "5e6247d1-d43c-411d-cf3b-a92282e51926"
      },
      "source": [
        "!ls"
      ],
      "execution_count": 2,
      "outputs": [
        {
          "output_type": "stream",
          "text": [
            "gdrive\tsample_data\n"
          ],
          "name": "stdout"
        }
      ]
    },
    {
      "cell_type": "code",
      "metadata": {
        "id": "-X6W5zritVtf",
        "colab_type": "code",
        "colab": {
          "base_uri": "https://localhost:8080/",
          "height": 34
        },
        "outputId": "5b8bc74d-d50b-4483-adfc-734725e10ed5"
      },
      "source": [
        "cd gdrive/My\\ Drive"
      ],
      "execution_count": 3,
      "outputs": [
        {
          "output_type": "stream",
          "text": [
            "/content/gdrive/My Drive\n"
          ],
          "name": "stdout"
        }
      ]
    },
    {
      "cell_type": "code",
      "metadata": {
        "id": "46OIeIig_ryX",
        "colab_type": "code",
        "colab": {
          "base_uri": "https://localhost:8080/",
          "height": 67
        },
        "outputId": "1d92338a-02fb-4422-ff14-244f8a77a67e"
      },
      "source": [
        "!ls"
      ],
      "execution_count": 4,
      "outputs": [
        {
          "output_type": "stream",
          "text": [
            " CaseStudy\t   'Getting started.pdf'     NeuralNetwork\n",
            "'Case Study 2'\t   'Intershala Estudy Pal'   sample_submission.csv\n",
            "'Colab Notebooks'  'Job Drive '\t\t     W2VecVectors\n"
          ],
          "name": "stdout"
        }
      ]
    },
    {
      "cell_type": "code",
      "metadata": {
        "id": "yePInvQ0_xnW",
        "colab_type": "code",
        "colab": {
          "base_uri": "https://localhost:8080/",
          "height": 34
        },
        "outputId": "fcb8bf94-8f3e-4eec-956b-1aa6ddf99419"
      },
      "source": [
        "cd W2VecVectors/"
      ],
      "execution_count": 5,
      "outputs": [
        {
          "output_type": "stream",
          "text": [
            "/content/gdrive/My Drive/W2VecVectors\n"
          ],
          "name": "stdout"
        }
      ]
    },
    {
      "cell_type": "code",
      "metadata": {
        "id": "1eESm2HeAB6R",
        "colab_type": "code",
        "colab": {
          "base_uri": "https://localhost:8080/",
          "height": 34
        },
        "outputId": "c48f0ea8-e4fa-484c-d55a-9ed3c65c26a3"
      },
      "source": [
        "ls"
      ],
      "execution_count": 6,
      "outputs": [
        {
          "output_type": "stream",
          "text": [
            "glove.840B.300d.zip\n"
          ],
          "name": "stdout"
        }
      ]
    },
    {
      "cell_type": "code",
      "metadata": {
        "id": "4vKMzMi7tjR7",
        "colab_type": "code",
        "colab": {
          "base_uri": "https://localhost:8080/",
          "height": 34
        },
        "outputId": "29080e0b-6444-4953-da9d-29090098d3ca"
      },
      "source": [
        "cd Job\\ Drive\\ "
      ],
      "execution_count": null,
      "outputs": [
        {
          "output_type": "stream",
          "text": [
            "/content/gdrive/My Drive/Job Drive \n"
          ],
          "name": "stdout"
        }
      ]
    },
    {
      "cell_type": "code",
      "metadata": {
        "id": "YkTEIuJ4tlXZ",
        "colab_type": "code",
        "colab": {
          "base_uri": "https://localhost:8080/",
          "height": 34
        },
        "outputId": "7ab3d69f-fb58-4406-a883-252cd89bc6cf"
      },
      "source": [
        "ls"
      ],
      "execution_count": null,
      "outputs": [
        {
          "output_type": "stream",
          "text": [
            "757287_1308144_bundle_archive.zip  \u001b[0m\u001b[01;34mdata\u001b[0m/  Untitled0.ipynb\n"
          ],
          "name": "stdout"
        }
      ]
    },
    {
      "cell_type": "code",
      "metadata": {
        "id": "hjii_baYtwBk",
        "colab_type": "code",
        "colab": {}
      },
      "source": [
        "#!unzip 757287_1308144_bundle_archive.zip"
      ],
      "execution_count": null,
      "outputs": []
    },
    {
      "cell_type": "code",
      "metadata": {
        "id": "AgPQjdhZt1Hg",
        "colab_type": "code",
        "colab": {}
      },
      "source": [
        "import pandas as pd\n",
        "import numpy as np\n",
        "import matplotlib.pyplot as plt\n",
        "from tqdm import tqdm\n",
        "import os\n",
        "\n",
        "import seaborn as sns\n",
        "import warnings\n",
        "import re\n",
        "\n",
        "from keras.models import Sequential\n",
        "from keras.layers import LSTM\n",
        "from keras.layers.core import Dense, Dropout\n",
        "from sklearn.model_selection import train_test_split\n",
        "from sklearn.metrics import f1_score\n",
        "from sklearn.metrics import confusion_matrix, classification_report\n",
        "from keras.models import load_model\n",
        "warnings.filterwarnings(\"ignore\")"
      ],
      "execution_count": null,
      "outputs": []
    },
    {
      "cell_type": "code",
      "metadata": {
        "id": "65qYYkd5uzjk",
        "colab_type": "code",
        "colab": {
          "base_uri": "https://localhost:8080/",
          "height": 34
        },
        "outputId": "00d78e77-72cc-484f-cd19-5c4e7c54f4f4"
      },
      "source": [
        "!ls"
      ],
      "execution_count": null,
      "outputs": [
        {
          "output_type": "stream",
          "text": [
            "757287_1308144_bundle_archive.zip  data  Untitled0.ipynb\n"
          ],
          "name": "stdout"
        }
      ]
    },
    {
      "cell_type": "code",
      "metadata": {
        "id": "KXR0yvfuu4hz",
        "colab_type": "code",
        "colab": {
          "base_uri": "https://localhost:8080/",
          "height": 34
        },
        "outputId": "55815a01-4be5-4b66-8fd8-3ef2ace79249"
      },
      "source": [
        "cd data/"
      ],
      "execution_count": null,
      "outputs": [
        {
          "output_type": "stream",
          "text": [
            "/content/gdrive/My Drive/Job Drive /data\n"
          ],
          "name": "stdout"
        }
      ]
    },
    {
      "cell_type": "code",
      "metadata": {
        "id": "5NrTlxF4uQpH",
        "colab_type": "code",
        "colab": {
          "base_uri": "https://localhost:8080/",
          "height": 84
        },
        "outputId": "7c546472-4642-4d8f-eebc-b0debfb923a7"
      },
      "source": [
        "Acc_X = pd.DataFrame()\n",
        "Acc_Y = pd.DataFrame()\n",
        "Acc_Z = pd.DataFrame()\n",
        "\n",
        "Gyr_X = pd.DataFrame()\n",
        "Gyr_Y = pd.DataFrame()\n",
        "Gyr_Z = pd.DataFrame()\n",
        "Y = []\n",
        "\n",
        "for fold in ['train', 'test']:\n",
        "    for folder in ['phone', 'watch']:\n",
        "        for file in tqdm(os.listdir(fold+'/'+folder+'/'+ os.listdir(fold+'/'+folder)[0])):\n",
        "            path = fold+'/'+folder+'/'+ os.listdir(fold+'/'+folder)[0]+\"/\"+file\n",
        "            acc_data = pd.read_csv(path, header=None)\n",
        "            acc_data[5] = pd.to_numeric(acc_data[5].map(lambda x: re.sub(r';', '', x)))\n",
        "            file1 = file.replace('accel', 'gyro')\n",
        "            path = fold+'/'+folder+'/'+ os.listdir(fold+'/'+folder)[1]+\"/\"+file1\n",
        "            gyr_data = pd.read_csv(path, header = None)\n",
        "            gyr_data[5] = pd.to_numeric(gyr_data[5].map(lambda x: re.sub(r';', '', x)))\n",
        "            for activity in acc_data[1].unique():\n",
        "                Y.append(activity)\n",
        "                Acc_X = Acc_X.append(pd.DataFrame(np.reshape(list(acc_data.loc[acc_data[1] == activity, 3][0:3567]) , (1, 3567))))\n",
        "                Acc_Y = Acc_Y.append(pd.DataFrame(np.reshape(list(acc_data.loc[acc_data[1] == activity, 4][0:3567]) , (1, 3567))))\n",
        "                Acc_Z = Acc_Z.append(pd.DataFrame(np.reshape(list(acc_data.loc[acc_data[1] == activity, 5][0:3567]) , (1, 3567))))\n",
        "                Gyr_X = Gyr_X.append(pd.DataFrame(np.reshape(list(gyr_data.loc[gyr_data[1] == activity, 3][0:3567]) , (1, 3567))))\n",
        "                Gyr_Y = Gyr_Y.append(pd.DataFrame(np.reshape(list(gyr_data.loc[gyr_data[1] == activity, 4][0:3567]) , (1, 3567))))\n",
        "                Gyr_Z = Gyr_Z.append(pd.DataFrame(np.reshape(list(gyr_data.loc[gyr_data[1] == activity, 5][0:3567]) , (1, 3567))))\n",
        "\n",
        "Y = pd.DataFrame(Y)"
      ],
      "execution_count": null,
      "outputs": [
        {
          "output_type": "stream",
          "text": [
            "100%|██████████| 20/20 [00:35<00:00,  1.75s/it]\n",
            "100%|██████████| 20/20 [00:41<00:00,  2.06s/it]\n",
            "100%|██████████| 14/14 [00:36<00:00,  2.58s/it]\n",
            "100%|██████████| 14/14 [00:41<00:00,  2.97s/it]\n"
          ],
          "name": "stderr"
        }
      ]
    },
    {
      "cell_type": "code",
      "metadata": {
        "id": "5i63uCuexE7h",
        "colab_type": "code",
        "colab": {}
      },
      "source": [
        "SIGNALS = [Acc_X,\n",
        "    Acc_Y,\n",
        "    Acc_Z,\n",
        "    Gyr_X,\n",
        "    Gyr_Y,\n",
        "    Gyr_Z,\n",
        "]"
      ],
      "execution_count": null,
      "outputs": []
    },
    {
      "cell_type": "code",
      "metadata": {
        "id": "lERHEEGGDvgE",
        "colab_type": "code",
        "colab": {}
      },
      "source": [
        "#train = "
      ],
      "execution_count": null,
      "outputs": []
    },
    {
      "cell_type": "code",
      "metadata": {
        "id": "WQWua93RxJmO",
        "colab_type": "code",
        "colab": {}
      },
      "source": [
        "# Utility function to load the load\n",
        "def load_signals():\n",
        "    signals_data = []\n",
        "\n",
        "    for signal in SIGNALS:\n",
        "\n",
        "        signals_data.append(\n",
        "            signal.to_numpy()\n",
        "        ) \n",
        "\n",
        "    # Transpose is used to change the dimensionality of the output,\n",
        "    # aggregating the signals by combination of sample/timestep.\n",
        "    # Resultant shape is (7352 train/2947 test samples, 128 timesteps, 9 signals)\n",
        "    \n",
        "    return np.transpose(signals_data, (1, 2, 0))\n",
        "\n",
        "train = load_signals()\n"
      ],
      "execution_count": null,
      "outputs": []
    },
    {
      "cell_type": "code",
      "metadata": {
        "id": "loworQFCDeu2",
        "colab_type": "code",
        "colab": {}
      },
      "source": [
        "Y = pd.get_dummies(Y)"
      ],
      "execution_count": null,
      "outputs": []
    },
    {
      "cell_type": "code",
      "metadata": {
        "id": "9zGdNDwNxRbq",
        "colab_type": "code",
        "colab": {
          "base_uri": "https://localhost:8080/",
          "height": 34
        },
        "outputId": "40a1d1d2-fd5c-4264-9ed9-8233341d9fbf"
      },
      "source": [
        "train.shape"
      ],
      "execution_count": null,
      "outputs": [
        {
          "output_type": "execute_result",
          "data": {
            "text/plain": [
              "(1217, 3567, 6)"
            ]
          },
          "metadata": {
            "tags": []
          },
          "execution_count": 21
        }
      ]
    },
    {
      "cell_type": "code",
      "metadata": {
        "id": "KWQRlv0Lxq91",
        "colab_type": "code",
        "colab": {
          "base_uri": "https://localhost:8080/",
          "height": 84
        },
        "outputId": "485807e2-2ae4-41e6-9d3f-0a98fe0b974a"
      },
      "source": [
        "X_train, X_test, y_train, y_test = train_test_split(train, Y, test_size=0.30, random_state=42)\n",
        "print (X_train.shape)\n",
        "print (X_test.shape)\n",
        "print (len(y_train))\n",
        "print (len(y_test))"
      ],
      "execution_count": null,
      "outputs": [
        {
          "output_type": "stream",
          "text": [
            "(851, 3567, 6)\n",
            "(366, 3567, 6)\n",
            "851\n",
            "366\n"
          ],
          "name": "stdout"
        }
      ]
    },
    {
      "cell_type": "code",
      "metadata": {
        "id": "60jELadgx1V5",
        "colab_type": "code",
        "colab": {}
      },
      "source": [
        "epochs = 10\n",
        "batch_size = 64\n",
        "n_hidden = 64"
      ],
      "execution_count": null,
      "outputs": []
    },
    {
      "cell_type": "code",
      "metadata": {
        "id": "rdGSUPfJx7yf",
        "colab_type": "code",
        "colab": {
          "base_uri": "https://localhost:8080/",
          "height": 67
        },
        "outputId": "45cfdabb-b071-4916-f03b-f3793ab01e41"
      },
      "source": [
        "timesteps = len(train[0])\n",
        "input_dim = len(train[0][0])\n",
        "n_classes = 18\n",
        "\n",
        "print(timesteps)\n",
        "print(input_dim)\n",
        "print(len(train))"
      ],
      "execution_count": null,
      "outputs": [
        {
          "output_type": "stream",
          "text": [
            "3567\n",
            "6\n",
            "1217\n"
          ],
          "name": "stdout"
        }
      ]
    },
    {
      "cell_type": "code",
      "metadata": {
        "id": "_63OPBr4urCF",
        "colab_type": "code",
        "colab": {
          "base_uri": "https://localhost:8080/",
          "height": 252
        },
        "outputId": "d1c08711-767b-47e3-c518-80dcbbc01246"
      },
      "source": [
        "classes = np.unique(Y)\n",
        "n_hidden = 32\n",
        "# Initiliazing the sequential model\n",
        "model = Sequential()\n",
        "# Configuring the parameters\n",
        "model.add(LSTM(n_hidden, input_shape=(timesteps, input_dim)))\n",
        "# Adding a dropout layer\n",
        "model.add(Dropout(0.5))\n",
        "# Adding a dense output layer with sigmoid activation\n",
        "model.add(Dense(n_classes, activation='sigmoid'))\n",
        "model.summary()"
      ],
      "execution_count": null,
      "outputs": [
        {
          "output_type": "stream",
          "text": [
            "Model: \"sequential_2\"\n",
            "_________________________________________________________________\n",
            "Layer (type)                 Output Shape              Param #   \n",
            "=================================================================\n",
            "lstm_2 (LSTM)                (None, 32)                4992      \n",
            "_________________________________________________________________\n",
            "dropout_2 (Dropout)          (None, 32)                0         \n",
            "_________________________________________________________________\n",
            "dense_2 (Dense)              (None, 18)                594       \n",
            "=================================================================\n",
            "Total params: 5,586\n",
            "Trainable params: 5,586\n",
            "Non-trainable params: 0\n",
            "_________________________________________________________________\n"
          ],
          "name": "stdout"
        }
      ]
    },
    {
      "cell_type": "code",
      "metadata": {
        "id": "BvgF9zjquyXJ",
        "colab_type": "code",
        "colab": {}
      },
      "source": [
        "# Compiling the model\n",
        "model.compile(loss='categorical_crossentropy',\n",
        "              optimizer='rmsprop',\n",
        "              metrics=['accuracy'])"
      ],
      "execution_count": null,
      "outputs": []
    },
    {
      "cell_type": "code",
      "metadata": {
        "id": "pieNJgg49hoI",
        "colab_type": "code",
        "colab": {}
      },
      "source": [
        "#pd.get_dummies(Y)"
      ],
      "execution_count": null,
      "outputs": []
    },
    {
      "cell_type": "code",
      "metadata": {
        "id": "FHhuXnZ9yPdM",
        "colab_type": "code",
        "colab": {
          "base_uri": "https://localhost:8080/",
          "height": 337
        },
        "outputId": "9a67a155-cb50-4a5e-c100-bd8cb2cee004"
      },
      "source": [
        "# Training the model\n",
        "model.fit(X_train,\n",
        "          y_train,\n",
        "          batch_size=batch_size,\n",
        "          validation_data=(X_test, y_test),\n",
        "          epochs=epochs)"
      ],
      "execution_count": null,
      "outputs": [
        {
          "output_type": "error",
          "ename": "RuntimeError",
          "evalue": "ignored",
          "traceback": [
            "\u001b[0;31m---------------------------------------------------------------------------\u001b[0m",
            "\u001b[0;31mRuntimeError\u001b[0m                              Traceback (most recent call last)",
            "\u001b[0;32m<ipython-input-30-585a051c0105>\u001b[0m in \u001b[0;36m<module>\u001b[0;34m()\u001b[0m\n\u001b[1;32m      4\u001b[0m           \u001b[0mbatch_size\u001b[0m\u001b[0;34m=\u001b[0m\u001b[0mbatch_size\u001b[0m\u001b[0;34m,\u001b[0m\u001b[0;34m\u001b[0m\u001b[0;34m\u001b[0m\u001b[0m\n\u001b[1;32m      5\u001b[0m           \u001b[0mvalidation_data\u001b[0m\u001b[0;34m=\u001b[0m\u001b[0;34m(\u001b[0m\u001b[0mX_test\u001b[0m\u001b[0;34m,\u001b[0m \u001b[0my_test\u001b[0m\u001b[0;34m)\u001b[0m\u001b[0;34m,\u001b[0m\u001b[0;34m\u001b[0m\u001b[0;34m\u001b[0m\u001b[0m\n\u001b[0;32m----> 6\u001b[0;31m           epochs=epochs)\n\u001b[0m",
            "\u001b[0;32m/usr/local/lib/python3.6/dist-packages/keras/engine/training.py\u001b[0m in \u001b[0;36mfit\u001b[0;34m(self, x, y, batch_size, epochs, verbose, callbacks, validation_split, validation_data, shuffle, class_weight, sample_weight, initial_epoch, steps_per_epoch, validation_steps, validation_freq, max_queue_size, workers, use_multiprocessing, **kwargs)\u001b[0m\n\u001b[1;32m   1152\u001b[0m             \u001b[0msample_weight\u001b[0m\u001b[0;34m=\u001b[0m\u001b[0msample_weight\u001b[0m\u001b[0;34m,\u001b[0m\u001b[0;34m\u001b[0m\u001b[0;34m\u001b[0m\u001b[0m\n\u001b[1;32m   1153\u001b[0m             \u001b[0mclass_weight\u001b[0m\u001b[0;34m=\u001b[0m\u001b[0mclass_weight\u001b[0m\u001b[0;34m,\u001b[0m\u001b[0;34m\u001b[0m\u001b[0;34m\u001b[0m\u001b[0m\n\u001b[0;32m-> 1154\u001b[0;31m             batch_size=batch_size)\n\u001b[0m\u001b[1;32m   1155\u001b[0m \u001b[0;34m\u001b[0m\u001b[0m\n\u001b[1;32m   1156\u001b[0m         \u001b[0;31m# Prepare validation data.\u001b[0m\u001b[0;34m\u001b[0m\u001b[0;34m\u001b[0m\u001b[0;34m\u001b[0m\u001b[0m\n",
            "\u001b[0;32m/usr/local/lib/python3.6/dist-packages/keras/engine/training.py\u001b[0m in \u001b[0;36m_standardize_user_data\u001b[0;34m(self, x, y, sample_weight, class_weight, check_array_lengths, batch_size)\u001b[0m\n\u001b[1;32m    506\u001b[0m         \u001b[0;32mif\u001b[0m \u001b[0my\u001b[0m \u001b[0;32mis\u001b[0m \u001b[0;32mnot\u001b[0m \u001b[0;32mNone\u001b[0m\u001b[0;34m:\u001b[0m\u001b[0;34m\u001b[0m\u001b[0;34m\u001b[0m\u001b[0m\n\u001b[1;32m    507\u001b[0m             \u001b[0;32mif\u001b[0m \u001b[0;32mnot\u001b[0m \u001b[0mself\u001b[0m\u001b[0;34m.\u001b[0m\u001b[0moptimizer\u001b[0m\u001b[0;34m:\u001b[0m\u001b[0;34m\u001b[0m\u001b[0;34m\u001b[0m\u001b[0m\n\u001b[0;32m--> 508\u001b[0;31m                 raise RuntimeError('You must compile a model before '\n\u001b[0m\u001b[1;32m    509\u001b[0m                                    \u001b[0;34m'training/testing. '\u001b[0m\u001b[0;34m\u001b[0m\u001b[0;34m\u001b[0m\u001b[0m\n\u001b[1;32m    510\u001b[0m                                    'Use `model.compile(optimizer, loss)`.')\n",
            "\u001b[0;31mRuntimeError\u001b[0m: You must compile a model before training/testing. Use `model.compile(optimizer, loss)`."
          ]
        }
      ]
    },
    {
      "cell_type": "code",
      "metadata": {
        "id": "OiKzzSqryQ2U",
        "colab_type": "code",
        "colab": {
          "base_uri": "https://localhost:8080/",
          "height": 1000
        },
        "outputId": "9ada4bea-cc5f-46ea-c78d-1857c33ba9a8"
      },
      "source": [
        "model.fit(X_train,\n",
        "          y_train,\n",
        "          batch_size=32,\n",
        "          validation_data=(X_test, y_test),\n",
        "          epochs=30)"
      ],
      "execution_count": null,
      "outputs": [
        {
          "output_type": "stream",
          "text": [
            "Train on 851 samples, validate on 366 samples\n",
            "Epoch 1/30\n",
            "851/851 [==============================] - 48s 56ms/step - loss: 2.9199 - accuracy: 0.0635 - val_loss: 2.8917 - val_accuracy: 0.0738\n",
            "Epoch 2/30\n",
            "851/851 [==============================] - 49s 58ms/step - loss: 2.8880 - accuracy: 0.0752 - val_loss: 2.8792 - val_accuracy: 0.0628\n",
            "Epoch 3/30\n",
            "851/851 [==============================] - 49s 57ms/step - loss: 2.8719 - accuracy: 0.0705 - val_loss: 2.8658 - val_accuracy: 0.0628\n",
            "Epoch 4/30\n",
            "851/851 [==============================] - 49s 57ms/step - loss: 2.8634 - accuracy: 0.0928 - val_loss: 2.8531 - val_accuracy: 0.0765\n",
            "Epoch 5/30\n",
            "851/851 [==============================] - 51s 59ms/step - loss: 2.8352 - accuracy: 0.0940 - val_loss: 2.8423 - val_accuracy: 0.0738\n",
            "Epoch 6/30\n",
            "851/851 [==============================] - 49s 58ms/step - loss: 2.8159 - accuracy: 0.0999 - val_loss: 2.8331 - val_accuracy: 0.0874\n",
            "Epoch 7/30\n",
            "851/851 [==============================] - 49s 58ms/step - loss: 2.8028 - accuracy: 0.1140 - val_loss: 2.8239 - val_accuracy: 0.0984\n",
            "Epoch 8/30\n",
            "851/851 [==============================] - 49s 58ms/step - loss: 2.7857 - accuracy: 0.1163 - val_loss: 2.8120 - val_accuracy: 0.0929\n",
            "Epoch 9/30\n",
            "851/851 [==============================] - 49s 57ms/step - loss: 2.7801 - accuracy: 0.1163 - val_loss: 2.8010 - val_accuracy: 0.1120\n",
            "Epoch 10/30\n",
            "851/851 [==============================] - 49s 58ms/step - loss: 2.7563 - accuracy: 0.1281 - val_loss: 2.7903 - val_accuracy: 0.1011\n",
            "Epoch 11/30\n",
            "851/851 [==============================] - 49s 58ms/step - loss: 2.7527 - accuracy: 0.1316 - val_loss: 2.7792 - val_accuracy: 0.1120\n",
            "Epoch 12/30\n",
            "851/851 [==============================] - 49s 58ms/step - loss: 2.7236 - accuracy: 0.1492 - val_loss: 2.7709 - val_accuracy: 0.1148\n",
            "Epoch 13/30\n",
            "851/851 [==============================] - 49s 58ms/step - loss: 2.7213 - accuracy: 0.1281 - val_loss: 2.7610 - val_accuracy: 0.1202\n",
            "Epoch 14/30\n",
            "851/851 [==============================] - 49s 57ms/step - loss: 2.6891 - accuracy: 0.1492 - val_loss: 2.7532 - val_accuracy: 0.1339\n",
            "Epoch 15/30\n",
            "851/851 [==============================] - 49s 58ms/step - loss: 2.6773 - accuracy: 0.1434 - val_loss: 2.7473 - val_accuracy: 0.1339\n",
            "Epoch 16/30\n",
            "851/851 [==============================] - 48s 57ms/step - loss: 2.6812 - accuracy: 0.1422 - val_loss: 2.7375 - val_accuracy: 0.1311\n",
            "Epoch 17/30\n",
            "851/851 [==============================] - 51s 59ms/step - loss: 2.6724 - accuracy: 0.1633 - val_loss: 2.7282 - val_accuracy: 0.1311\n",
            "Epoch 18/30\n",
            "851/851 [==============================] - 49s 57ms/step - loss: 2.6636 - accuracy: 0.1316 - val_loss: 2.7209 - val_accuracy: 0.1311\n",
            "Epoch 19/30\n",
            "851/851 [==============================] - 49s 58ms/step - loss: 2.6415 - accuracy: 0.1351 - val_loss: 2.7161 - val_accuracy: 0.1311\n",
            "Epoch 20/30\n",
            "851/851 [==============================] - 48s 57ms/step - loss: 2.6354 - accuracy: 0.1434 - val_loss: 2.7009 - val_accuracy: 0.1366\n",
            "Epoch 21/30\n",
            "256/851 [========>.....................] - ETA: 32s - loss: 2.6311 - accuracy: 0.1328"
          ],
          "name": "stdout"
        },
        {
          "output_type": "error",
          "ename": "KeyboardInterrupt",
          "evalue": "ignored",
          "traceback": [
            "\u001b[0;31m---------------------------------------------------------------------------\u001b[0m",
            "\u001b[0;31mKeyboardInterrupt\u001b[0m                         Traceback (most recent call last)",
            "\u001b[0;32m<ipython-input-32-57ee2b734036>\u001b[0m in \u001b[0;36m<module>\u001b[0;34m()\u001b[0m\n\u001b[1;32m      3\u001b[0m           \u001b[0mbatch_size\u001b[0m\u001b[0;34m=\u001b[0m\u001b[0;36m32\u001b[0m\u001b[0;34m,\u001b[0m\u001b[0;34m\u001b[0m\u001b[0;34m\u001b[0m\u001b[0m\n\u001b[1;32m      4\u001b[0m           \u001b[0mvalidation_data\u001b[0m\u001b[0;34m=\u001b[0m\u001b[0;34m(\u001b[0m\u001b[0mX_test\u001b[0m\u001b[0;34m,\u001b[0m \u001b[0my_test\u001b[0m\u001b[0;34m)\u001b[0m\u001b[0;34m,\u001b[0m\u001b[0;34m\u001b[0m\u001b[0;34m\u001b[0m\u001b[0m\n\u001b[0;32m----> 5\u001b[0;31m           epochs=30)\n\u001b[0m",
            "\u001b[0;32m/usr/local/lib/python3.6/dist-packages/keras/engine/training.py\u001b[0m in \u001b[0;36mfit\u001b[0;34m(self, x, y, batch_size, epochs, verbose, callbacks, validation_split, validation_data, shuffle, class_weight, sample_weight, initial_epoch, steps_per_epoch, validation_steps, validation_freq, max_queue_size, workers, use_multiprocessing, **kwargs)\u001b[0m\n\u001b[1;32m   1237\u001b[0m                                         \u001b[0msteps_per_epoch\u001b[0m\u001b[0;34m=\u001b[0m\u001b[0msteps_per_epoch\u001b[0m\u001b[0;34m,\u001b[0m\u001b[0;34m\u001b[0m\u001b[0;34m\u001b[0m\u001b[0m\n\u001b[1;32m   1238\u001b[0m                                         \u001b[0mvalidation_steps\u001b[0m\u001b[0;34m=\u001b[0m\u001b[0mvalidation_steps\u001b[0m\u001b[0;34m,\u001b[0m\u001b[0;34m\u001b[0m\u001b[0;34m\u001b[0m\u001b[0m\n\u001b[0;32m-> 1239\u001b[0;31m                                         validation_freq=validation_freq)\n\u001b[0m\u001b[1;32m   1240\u001b[0m \u001b[0;34m\u001b[0m\u001b[0m\n\u001b[1;32m   1241\u001b[0m     def evaluate(self,\n",
            "\u001b[0;32m/usr/local/lib/python3.6/dist-packages/keras/engine/training_arrays.py\u001b[0m in \u001b[0;36mfit_loop\u001b[0;34m(model, fit_function, fit_inputs, out_labels, batch_size, epochs, verbose, callbacks, val_function, val_inputs, shuffle, initial_epoch, steps_per_epoch, validation_steps, validation_freq)\u001b[0m\n\u001b[1;32m    194\u001b[0m                     \u001b[0mins_batch\u001b[0m\u001b[0;34m[\u001b[0m\u001b[0mi\u001b[0m\u001b[0;34m]\u001b[0m \u001b[0;34m=\u001b[0m \u001b[0mins_batch\u001b[0m\u001b[0;34m[\u001b[0m\u001b[0mi\u001b[0m\u001b[0;34m]\u001b[0m\u001b[0;34m.\u001b[0m\u001b[0mtoarray\u001b[0m\u001b[0;34m(\u001b[0m\u001b[0;34m)\u001b[0m\u001b[0;34m\u001b[0m\u001b[0;34m\u001b[0m\u001b[0m\n\u001b[1;32m    195\u001b[0m \u001b[0;34m\u001b[0m\u001b[0m\n\u001b[0;32m--> 196\u001b[0;31m                 \u001b[0mouts\u001b[0m \u001b[0;34m=\u001b[0m \u001b[0mfit_function\u001b[0m\u001b[0;34m(\u001b[0m\u001b[0mins_batch\u001b[0m\u001b[0;34m)\u001b[0m\u001b[0;34m\u001b[0m\u001b[0;34m\u001b[0m\u001b[0m\n\u001b[0m\u001b[1;32m    197\u001b[0m                 \u001b[0mouts\u001b[0m \u001b[0;34m=\u001b[0m \u001b[0mto_list\u001b[0m\u001b[0;34m(\u001b[0m\u001b[0mouts\u001b[0m\u001b[0;34m)\u001b[0m\u001b[0;34m\u001b[0m\u001b[0;34m\u001b[0m\u001b[0m\n\u001b[1;32m    198\u001b[0m                 \u001b[0;32mfor\u001b[0m \u001b[0ml\u001b[0m\u001b[0;34m,\u001b[0m \u001b[0mo\u001b[0m \u001b[0;32min\u001b[0m \u001b[0mzip\u001b[0m\u001b[0;34m(\u001b[0m\u001b[0mout_labels\u001b[0m\u001b[0;34m,\u001b[0m \u001b[0mouts\u001b[0m\u001b[0;34m)\u001b[0m\u001b[0;34m:\u001b[0m\u001b[0;34m\u001b[0m\u001b[0;34m\u001b[0m\u001b[0m\n",
            "\u001b[0;32m/usr/local/lib/python3.6/dist-packages/tensorflow/python/keras/backend.py\u001b[0m in \u001b[0;36m__call__\u001b[0;34m(self, inputs)\u001b[0m\n\u001b[1;32m   3790\u001b[0m         \u001b[0mvalue\u001b[0m \u001b[0;34m=\u001b[0m \u001b[0mmath_ops\u001b[0m\u001b[0;34m.\u001b[0m\u001b[0mcast\u001b[0m\u001b[0;34m(\u001b[0m\u001b[0mvalue\u001b[0m\u001b[0;34m,\u001b[0m \u001b[0mtensor\u001b[0m\u001b[0;34m.\u001b[0m\u001b[0mdtype\u001b[0m\u001b[0;34m)\u001b[0m\u001b[0;34m\u001b[0m\u001b[0;34m\u001b[0m\u001b[0m\n\u001b[1;32m   3791\u001b[0m       \u001b[0mconverted_inputs\u001b[0m\u001b[0;34m.\u001b[0m\u001b[0mappend\u001b[0m\u001b[0;34m(\u001b[0m\u001b[0mvalue\u001b[0m\u001b[0;34m)\u001b[0m\u001b[0;34m\u001b[0m\u001b[0;34m\u001b[0m\u001b[0m\n\u001b[0;32m-> 3792\u001b[0;31m     \u001b[0moutputs\u001b[0m \u001b[0;34m=\u001b[0m \u001b[0mself\u001b[0m\u001b[0;34m.\u001b[0m\u001b[0m_graph_fn\u001b[0m\u001b[0;34m(\u001b[0m\u001b[0;34m*\u001b[0m\u001b[0mconverted_inputs\u001b[0m\u001b[0;34m)\u001b[0m\u001b[0;34m\u001b[0m\u001b[0;34m\u001b[0m\u001b[0m\n\u001b[0m\u001b[1;32m   3793\u001b[0m \u001b[0;34m\u001b[0m\u001b[0m\n\u001b[1;32m   3794\u001b[0m     \u001b[0;31m# EagerTensor.numpy() will often make a copy to ensure memory safety.\u001b[0m\u001b[0;34m\u001b[0m\u001b[0;34m\u001b[0m\u001b[0;34m\u001b[0m\u001b[0m\n",
            "\u001b[0;32m/usr/local/lib/python3.6/dist-packages/tensorflow/python/eager/function.py\u001b[0m in \u001b[0;36m__call__\u001b[0;34m(self, *args, **kwargs)\u001b[0m\n\u001b[1;32m   1603\u001b[0m       \u001b[0mTypeError\u001b[0m\u001b[0;34m:\u001b[0m \u001b[0mFor\u001b[0m \u001b[0minvalid\u001b[0m \u001b[0mpositional\u001b[0m\u001b[0;34m/\u001b[0m\u001b[0mkeyword\u001b[0m \u001b[0margument\u001b[0m \u001b[0mcombinations\u001b[0m\u001b[0;34m.\u001b[0m\u001b[0;34m\u001b[0m\u001b[0;34m\u001b[0m\u001b[0m\n\u001b[1;32m   1604\u001b[0m     \"\"\"\n\u001b[0;32m-> 1605\u001b[0;31m     \u001b[0;32mreturn\u001b[0m \u001b[0mself\u001b[0m\u001b[0;34m.\u001b[0m\u001b[0m_call_impl\u001b[0m\u001b[0;34m(\u001b[0m\u001b[0margs\u001b[0m\u001b[0;34m,\u001b[0m \u001b[0mkwargs\u001b[0m\u001b[0;34m)\u001b[0m\u001b[0;34m\u001b[0m\u001b[0;34m\u001b[0m\u001b[0m\n\u001b[0m\u001b[1;32m   1606\u001b[0m \u001b[0;34m\u001b[0m\u001b[0m\n\u001b[1;32m   1607\u001b[0m   \u001b[0;32mdef\u001b[0m \u001b[0m_call_impl\u001b[0m\u001b[0;34m(\u001b[0m\u001b[0mself\u001b[0m\u001b[0;34m,\u001b[0m \u001b[0margs\u001b[0m\u001b[0;34m,\u001b[0m \u001b[0mkwargs\u001b[0m\u001b[0;34m,\u001b[0m \u001b[0mcancellation_manager\u001b[0m\u001b[0;34m=\u001b[0m\u001b[0;32mNone\u001b[0m\u001b[0;34m)\u001b[0m\u001b[0;34m:\u001b[0m\u001b[0;34m\u001b[0m\u001b[0;34m\u001b[0m\u001b[0m\n",
            "\u001b[0;32m/usr/local/lib/python3.6/dist-packages/tensorflow/python/eager/function.py\u001b[0m in \u001b[0;36m_call_impl\u001b[0;34m(self, args, kwargs, cancellation_manager)\u001b[0m\n\u001b[1;32m   1643\u001b[0m       raise TypeError(\"Keyword arguments {} unknown. Expected {}.\".format(\n\u001b[1;32m   1644\u001b[0m           list(kwargs.keys()), list(self._arg_keywords)))\n\u001b[0;32m-> 1645\u001b[0;31m     \u001b[0;32mreturn\u001b[0m \u001b[0mself\u001b[0m\u001b[0;34m.\u001b[0m\u001b[0m_call_flat\u001b[0m\u001b[0;34m(\u001b[0m\u001b[0margs\u001b[0m\u001b[0;34m,\u001b[0m \u001b[0mself\u001b[0m\u001b[0;34m.\u001b[0m\u001b[0mcaptured_inputs\u001b[0m\u001b[0;34m,\u001b[0m \u001b[0mcancellation_manager\u001b[0m\u001b[0;34m)\u001b[0m\u001b[0;34m\u001b[0m\u001b[0;34m\u001b[0m\u001b[0m\n\u001b[0m\u001b[1;32m   1646\u001b[0m \u001b[0;34m\u001b[0m\u001b[0m\n\u001b[1;32m   1647\u001b[0m   \u001b[0;32mdef\u001b[0m \u001b[0m_filtered_call\u001b[0m\u001b[0;34m(\u001b[0m\u001b[0mself\u001b[0m\u001b[0;34m,\u001b[0m \u001b[0margs\u001b[0m\u001b[0;34m,\u001b[0m \u001b[0mkwargs\u001b[0m\u001b[0;34m)\u001b[0m\u001b[0;34m:\u001b[0m\u001b[0;34m\u001b[0m\u001b[0;34m\u001b[0m\u001b[0m\n",
            "\u001b[0;32m/usr/local/lib/python3.6/dist-packages/tensorflow/python/eager/function.py\u001b[0m in \u001b[0;36m_call_flat\u001b[0;34m(self, args, captured_inputs, cancellation_manager)\u001b[0m\n\u001b[1;32m   1744\u001b[0m       \u001b[0;31m# No tape is watching; skip to running the function.\u001b[0m\u001b[0;34m\u001b[0m\u001b[0;34m\u001b[0m\u001b[0;34m\u001b[0m\u001b[0m\n\u001b[1;32m   1745\u001b[0m       return self._build_call_outputs(self._inference_function.call(\n\u001b[0;32m-> 1746\u001b[0;31m           ctx, args, cancellation_manager=cancellation_manager))\n\u001b[0m\u001b[1;32m   1747\u001b[0m     forward_backward = self._select_forward_and_backward_functions(\n\u001b[1;32m   1748\u001b[0m         \u001b[0margs\u001b[0m\u001b[0;34m,\u001b[0m\u001b[0;34m\u001b[0m\u001b[0;34m\u001b[0m\u001b[0m\n",
            "\u001b[0;32m/usr/local/lib/python3.6/dist-packages/tensorflow/python/eager/function.py\u001b[0m in \u001b[0;36mcall\u001b[0;34m(self, ctx, args, cancellation_manager)\u001b[0m\n\u001b[1;32m    596\u001b[0m               \u001b[0minputs\u001b[0m\u001b[0;34m=\u001b[0m\u001b[0margs\u001b[0m\u001b[0;34m,\u001b[0m\u001b[0;34m\u001b[0m\u001b[0;34m\u001b[0m\u001b[0m\n\u001b[1;32m    597\u001b[0m               \u001b[0mattrs\u001b[0m\u001b[0;34m=\u001b[0m\u001b[0mattrs\u001b[0m\u001b[0;34m,\u001b[0m\u001b[0;34m\u001b[0m\u001b[0;34m\u001b[0m\u001b[0m\n\u001b[0;32m--> 598\u001b[0;31m               ctx=ctx)\n\u001b[0m\u001b[1;32m    599\u001b[0m         \u001b[0;32melse\u001b[0m\u001b[0;34m:\u001b[0m\u001b[0;34m\u001b[0m\u001b[0;34m\u001b[0m\u001b[0m\n\u001b[1;32m    600\u001b[0m           outputs = execute.execute_with_cancellation(\n",
            "\u001b[0;32m/usr/local/lib/python3.6/dist-packages/tensorflow/python/eager/execute.py\u001b[0m in \u001b[0;36mquick_execute\u001b[0;34m(op_name, num_outputs, inputs, attrs, ctx, name)\u001b[0m\n\u001b[1;32m     58\u001b[0m     \u001b[0mctx\u001b[0m\u001b[0;34m.\u001b[0m\u001b[0mensure_initialized\u001b[0m\u001b[0;34m(\u001b[0m\u001b[0;34m)\u001b[0m\u001b[0;34m\u001b[0m\u001b[0;34m\u001b[0m\u001b[0m\n\u001b[1;32m     59\u001b[0m     tensors = pywrap_tfe.TFE_Py_Execute(ctx._handle, device_name, op_name,\n\u001b[0;32m---> 60\u001b[0;31m                                         inputs, attrs, num_outputs)\n\u001b[0m\u001b[1;32m     61\u001b[0m   \u001b[0;32mexcept\u001b[0m \u001b[0mcore\u001b[0m\u001b[0;34m.\u001b[0m\u001b[0m_NotOkStatusException\u001b[0m \u001b[0;32mas\u001b[0m \u001b[0me\u001b[0m\u001b[0;34m:\u001b[0m\u001b[0;34m\u001b[0m\u001b[0;34m\u001b[0m\u001b[0m\n\u001b[1;32m     62\u001b[0m     \u001b[0;32mif\u001b[0m \u001b[0mname\u001b[0m \u001b[0;32mis\u001b[0m \u001b[0;32mnot\u001b[0m \u001b[0;32mNone\u001b[0m\u001b[0;34m:\u001b[0m\u001b[0;34m\u001b[0m\u001b[0;34m\u001b[0m\u001b[0m\n",
            "\u001b[0;31mKeyboardInterrupt\u001b[0m: "
          ]
        }
      ]
    },
    {
      "cell_type": "code",
      "metadata": {
        "id": "S-EmXHjK4MGn",
        "colab_type": "code",
        "colab": {
          "base_uri": "https://localhost:8080/",
          "height": 1000
        },
        "outputId": "6cbf07c8-776c-4e59-e5a6-7f2b27d1f967"
      },
      "source": [
        "model = Sequential()\n",
        "\n",
        "model.add(LSTM(64, return_sequences=True, input_shape=(timesteps, input_dim)))\n",
        "model.add(LSTM(64))\n",
        "\n",
        "model.add(Dropout(0.5))\n",
        "\n",
        "model.add(Dense(18, activation='sigmoid'))\n",
        "model.summary()\n",
        "\n",
        "model.compile(loss='binary_crossentropy',\n",
        "          optimizer='rmsprop',\n",
        "          metrics=['accuracy'])\n",
        "\n",
        "model.fit(X_train,\n",
        "      y_train,\n",
        "      batch_size=batch_size,\n",
        "      epochs= 40,\n",
        "      verbose = 1,\n",
        "      validation_data=(X_test, y_test)\n",
        "      )"
      ],
      "execution_count": null,
      "outputs": [
        {
          "output_type": "stream",
          "text": [
            "Model: \"sequential_4\"\n",
            "_________________________________________________________________\n",
            "Layer (type)                 Output Shape              Param #   \n",
            "=================================================================\n",
            "lstm_5 (LSTM)                (None, 3567, 64)          18176     \n",
            "_________________________________________________________________\n",
            "lstm_6 (LSTM)                (None, 64)                33024     \n",
            "_________________________________________________________________\n",
            "dropout_4 (Dropout)          (None, 64)                0         \n",
            "_________________________________________________________________\n",
            "dense_4 (Dense)              (None, 18)                1170      \n",
            "=================================================================\n",
            "Total params: 52,370\n",
            "Trainable params: 52,370\n",
            "Non-trainable params: 0\n",
            "_________________________________________________________________\n",
            "Train on 851 samples, validate on 366 samples\n",
            "Epoch 1/40\n",
            "851/851 [==============================] - 99s 116ms/step - loss: 0.4949 - accuracy: 0.7789 - val_loss: 0.2673 - val_accuracy: 0.9444\n",
            "Epoch 2/40\n",
            "851/851 [==============================] - 99s 116ms/step - loss: 0.2774 - accuracy: 0.9341 - val_loss: 0.2225 - val_accuracy: 0.9444\n",
            "Epoch 3/40\n",
            "851/851 [==============================] - 100s 118ms/step - loss: 0.2486 - accuracy: 0.9419 - val_loss: 0.2146 - val_accuracy: 0.9444\n",
            "Epoch 4/40\n",
            "851/851 [==============================] - 99s 116ms/step - loss: 0.2392 - accuracy: 0.9435 - val_loss: 0.2128 - val_accuracy: 0.9444\n",
            "Epoch 5/40\n",
            "851/851 [==============================] - 102s 120ms/step - loss: 0.2351 - accuracy: 0.9440 - val_loss: 0.2117 - val_accuracy: 0.9444\n",
            "Epoch 6/40\n",
            "851/851 [==============================] - 100s 117ms/step - loss: 0.2317 - accuracy: 0.9439 - val_loss: 0.2100 - val_accuracy: 0.9444\n",
            "Epoch 7/40\n",
            "851/851 [==============================] - 100s 117ms/step - loss: 0.2279 - accuracy: 0.9441 - val_loss: 0.2094 - val_accuracy: 0.9444\n",
            "Epoch 8/40\n",
            "851/851 [==============================] - 99s 117ms/step - loss: 0.2249 - accuracy: 0.9440 - val_loss: 0.2073 - val_accuracy: 0.9444\n",
            "Epoch 9/40\n",
            "851/851 [==============================] - 100s 117ms/step - loss: 0.2230 - accuracy: 0.9440 - val_loss: 0.2066 - val_accuracy: 0.9444\n",
            "Epoch 10/40\n",
            "851/851 [==============================] - 100s 118ms/step - loss: 0.2182 - accuracy: 0.9441 - val_loss: 0.2050 - val_accuracy: 0.9444\n",
            "Epoch 11/40\n",
            "851/851 [==============================] - 102s 120ms/step - loss: 0.2173 - accuracy: 0.9438 - val_loss: 0.2047 - val_accuracy: 0.9444\n",
            "Epoch 12/40\n",
            "851/851 [==============================] - 100s 118ms/step - loss: 0.2154 - accuracy: 0.9442 - val_loss: 0.2029 - val_accuracy: 0.9444\n",
            "Epoch 13/40\n",
            "851/851 [==============================] - 100s 117ms/step - loss: 0.2112 - accuracy: 0.9441 - val_loss: 0.2029 - val_accuracy: 0.9444\n",
            "Epoch 14/40\n",
            "851/851 [==============================] - 100s 118ms/step - loss: 0.2082 - accuracy: 0.9443 - val_loss: 0.2013 - val_accuracy: 0.9444\n",
            "Epoch 15/40\n",
            "851/851 [==============================] - 99s 117ms/step - loss: 0.2099 - accuracy: 0.9441 - val_loss: 0.1989 - val_accuracy: 0.9444\n",
            "Epoch 16/40\n",
            "851/851 [==============================] - 99s 117ms/step - loss: 0.2057 - accuracy: 0.9446 - val_loss: 0.1984 - val_accuracy: 0.9444\n",
            "Epoch 17/40\n",
            "851/851 [==============================] - 102s 120ms/step - loss: 0.2034 - accuracy: 0.9444 - val_loss: 0.1986 - val_accuracy: 0.9444\n",
            "Epoch 18/40\n",
            "851/851 [==============================] - 100s 118ms/step - loss: 0.2014 - accuracy: 0.9444 - val_loss: 0.1967 - val_accuracy: 0.9444\n",
            "Epoch 19/40\n",
            "851/851 [==============================] - 100s 117ms/step - loss: 0.2016 - accuracy: 0.9441 - val_loss: 0.1958 - val_accuracy: 0.9444\n",
            "Epoch 20/40\n",
            "851/851 [==============================] - 101s 119ms/step - loss: 0.2008 - accuracy: 0.9446 - val_loss: 0.1958 - val_accuracy: 0.9444\n",
            "Epoch 21/40\n",
            "851/851 [==============================] - 101s 119ms/step - loss: 0.1969 - accuracy: 0.9442 - val_loss: 0.1948 - val_accuracy: 0.9444\n",
            "Epoch 22/40\n",
            "851/851 [==============================] - 101s 119ms/step - loss: 0.1976 - accuracy: 0.9445 - val_loss: 0.1930 - val_accuracy: 0.9444\n",
            "Epoch 23/40\n",
            "851/851 [==============================] - 104s 122ms/step - loss: 0.1949 - accuracy: 0.9448 - val_loss: 0.1927 - val_accuracy: 0.9444\n",
            "Epoch 24/40\n",
            "851/851 [==============================] - 101s 119ms/step - loss: 0.1931 - accuracy: 0.9446 - val_loss: 0.1952 - val_accuracy: 0.9444\n",
            "Epoch 25/40\n",
            "851/851 [==============================] - 100s 118ms/step - loss: 0.1934 - accuracy: 0.9442 - val_loss: 0.1897 - val_accuracy: 0.9446\n",
            "Epoch 26/40\n",
            "851/851 [==============================] - 101s 119ms/step - loss: 0.1927 - accuracy: 0.9450 - val_loss: 0.1894 - val_accuracy: 0.9446\n",
            "Epoch 27/40\n",
            "384/851 [============>.................] - ETA: 49s - loss: 0.1876 - accuracy: 0.9453"
          ],
          "name": "stdout"
        }
      ]
    },
    {
      "cell_type": "code",
      "metadata": {
        "id": "iCBccgVv8AYd",
        "colab_type": "code",
        "colab": {}
      },
      "source": [
        ""
      ],
      "execution_count": null,
      "outputs": []
    }
  ]
}